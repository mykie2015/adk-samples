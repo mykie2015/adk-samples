{
  "nbformat": 4,
  "nbformat_minor": 0,
  "metadata": {
    "colab": {
      "provenance": [],
      "toc_visible": true,
      "authorship_tag": "ABX9TyPWLzDB5Gy7eGZL/n08Z6uo",
      "include_colab_link": true
    },
    "kernelspec": {
      "name": "python3",
      "display_name": "Python 3"
    },
    "language_info": {
      "name": "python"
    }
  },
  "cells": [
    {
      "cell_type": "markdown",
      "metadata": {
        "id": "view-in-github",
        "colab_type": "text"
      },
      "source": [
        "<a href=\"https://colab.research.google.com/github/mykie2015/adk-samples/blob/main/LLM_agent.ipynb\" target=\"_parent\"><img src=\"https://colab.research.google.com/assets/colab-badge.svg\" alt=\"Open In Colab\"/></a>"
      ]
    },
    {
      "cell_type": "code",
      "source": [
        "!pip install google-adk -q\n",
        "!pip install litellm -q\n",
        "!pip install --upgrade sqlalchemy\n",
        "!pip install --upgrade google-adk\n",
        "\n",
        "print(\"Installation complete.\")"
      ],
      "metadata": {
        "colab": {
          "base_uri": "https://localhost:8080/"
        },
        "collapsed": true,
        "id": "AGx--yB7yjhd",
        "outputId": "d0985119-7c96-4005-c68a-63752ffd25a0"
      },
      "execution_count": 9,
      "outputs": [
        {
          "output_type": "stream",
          "name": "stdout",
          "text": [
            "Requirement already satisfied: sqlalchemy in /usr/local/lib/python3.11/dist-packages (2.0.40)\n",
            "Requirement already satisfied: greenlet>=1 in /usr/local/lib/python3.11/dist-packages (from sqlalchemy) (3.2.1)\n",
            "Requirement already satisfied: typing-extensions>=4.6.0 in /usr/local/lib/python3.11/dist-packages (from sqlalchemy) (4.13.2)\n",
            "Requirement already satisfied: google-adk in /usr/local/lib/python3.11/dist-packages (0.4.0)\n",
            "Requirement already satisfied: authlib>=1.5.1 in /usr/local/lib/python3.11/dist-packages (from google-adk) (1.5.2)\n",
            "Requirement already satisfied: click>=8.1.8 in /usr/local/lib/python3.11/dist-packages (from google-adk) (8.1.8)\n",
            "Requirement already satisfied: fastapi>=0.115.0 in /usr/local/lib/python3.11/dist-packages (from google-adk) (0.115.12)\n",
            "Requirement already satisfied: google-api-python-client>=2.157.0 in /usr/local/lib/python3.11/dist-packages (from google-adk) (2.169.0)\n",
            "Requirement already satisfied: google-cloud-aiplatform>=1.87.0 in /usr/local/lib/python3.11/dist-packages (from google-adk) (1.91.0)\n",
            "Requirement already satisfied: google-cloud-secret-manager>=2.22.0 in /usr/local/lib/python3.11/dist-packages (from google-adk) (2.23.3)\n",
            "Requirement already satisfied: google-cloud-speech>=2.30.0 in /usr/local/lib/python3.11/dist-packages (from google-adk) (2.32.0)\n",
            "Requirement already satisfied: google-cloud-storage<3.0.0,>=2.18.0 in /usr/local/lib/python3.11/dist-packages (from google-adk) (2.19.0)\n",
            "Requirement already satisfied: google-genai>=1.11.0 in /usr/local/lib/python3.11/dist-packages (from google-adk) (1.13.0)\n",
            "Requirement already satisfied: graphviz>=0.20.2 in /usr/local/lib/python3.11/dist-packages (from google-adk) (0.20.3)\n",
            "Requirement already satisfied: mcp>=1.5.0 in /usr/local/lib/python3.11/dist-packages (from google-adk) (1.7.1)\n",
            "Requirement already satisfied: opentelemetry-api>=1.31.0 in /usr/local/lib/python3.11/dist-packages (from google-adk) (1.32.1)\n",
            "Requirement already satisfied: opentelemetry-exporter-gcp-trace>=1.9.0 in /usr/local/lib/python3.11/dist-packages (from google-adk) (1.9.0)\n",
            "Requirement already satisfied: opentelemetry-sdk>=1.31.0 in /usr/local/lib/python3.11/dist-packages (from google-adk) (1.32.1)\n",
            "Requirement already satisfied: pydantic<3.0.0,>=2.0 in /usr/local/lib/python3.11/dist-packages (from google-adk) (2.11.4)\n",
            "Requirement already satisfied: python-dotenv>=1.0.0 in /usr/local/lib/python3.11/dist-packages (from google-adk) (1.1.0)\n",
            "Requirement already satisfied: PyYAML>=6.0.2 in /usr/local/lib/python3.11/dist-packages (from google-adk) (6.0.2)\n",
            "Requirement already satisfied: sqlalchemy>=2.0 in /usr/local/lib/python3.11/dist-packages (from google-adk) (2.0.40)\n",
            "Requirement already satisfied: tzlocal>=5.3 in /usr/local/lib/python3.11/dist-packages (from google-adk) (5.3.1)\n",
            "Requirement already satisfied: uvicorn>=0.34.0 in /usr/local/lib/python3.11/dist-packages (from google-adk) (0.34.2)\n",
            "Requirement already satisfied: cryptography in /usr/local/lib/python3.11/dist-packages (from authlib>=1.5.1->google-adk) (43.0.3)\n",
            "Requirement already satisfied: starlette<0.47.0,>=0.40.0 in /usr/local/lib/python3.11/dist-packages (from fastapi>=0.115.0->google-adk) (0.46.2)\n",
            "Requirement already satisfied: typing-extensions>=4.8.0 in /usr/local/lib/python3.11/dist-packages (from fastapi>=0.115.0->google-adk) (4.13.2)\n",
            "Requirement already satisfied: httplib2<1.0.0,>=0.19.0 in /usr/local/lib/python3.11/dist-packages (from google-api-python-client>=2.157.0->google-adk) (0.22.0)\n",
            "Requirement already satisfied: google-auth!=2.24.0,!=2.25.0,<3.0.0,>=1.32.0 in /usr/local/lib/python3.11/dist-packages (from google-api-python-client>=2.157.0->google-adk) (2.38.0)\n",
            "Requirement already satisfied: google-auth-httplib2<1.0.0,>=0.2.0 in /usr/local/lib/python3.11/dist-packages (from google-api-python-client>=2.157.0->google-adk) (0.2.0)\n",
            "Requirement already satisfied: google-api-core!=2.0.*,!=2.1.*,!=2.2.*,!=2.3.0,<3.0.0,>=1.31.5 in /usr/local/lib/python3.11/dist-packages (from google-api-python-client>=2.157.0->google-adk) (2.24.2)\n",
            "Requirement already satisfied: uritemplate<5,>=3.0.1 in /usr/local/lib/python3.11/dist-packages (from google-api-python-client>=2.157.0->google-adk) (4.1.1)\n",
            "Requirement already satisfied: proto-plus<2.0.0,>=1.22.3 in /usr/local/lib/python3.11/dist-packages (from google-cloud-aiplatform>=1.87.0->google-adk) (1.26.1)\n",
            "Requirement already satisfied: protobuf!=4.21.0,!=4.21.1,!=4.21.2,!=4.21.3,!=4.21.4,!=4.21.5,<7.0.0,>=3.20.2 in /usr/local/lib/python3.11/dist-packages (from google-cloud-aiplatform>=1.87.0->google-adk) (5.29.4)\n",
            "Requirement already satisfied: packaging>=14.3 in /usr/local/lib/python3.11/dist-packages (from google-cloud-aiplatform>=1.87.0->google-adk) (24.2)\n",
            "Requirement already satisfied: google-cloud-bigquery!=3.20.0,<4.0.0,>=1.15.0 in /usr/local/lib/python3.11/dist-packages (from google-cloud-aiplatform>=1.87.0->google-adk) (3.31.0)\n",
            "Requirement already satisfied: google-cloud-resource-manager<3.0.0,>=1.3.3 in /usr/local/lib/python3.11/dist-packages (from google-cloud-aiplatform>=1.87.0->google-adk) (1.14.2)\n",
            "Requirement already satisfied: shapely<3.0.0 in /usr/local/lib/python3.11/dist-packages (from google-cloud-aiplatform>=1.87.0->google-adk) (2.1.0)\n",
            "Requirement already satisfied: docstring-parser<1 in /usr/local/lib/python3.11/dist-packages (from google-cloud-aiplatform>=1.87.0->google-adk) (0.16)\n",
            "Requirement already satisfied: grpc-google-iam-v1<1.0.0,>=0.14.0 in /usr/local/lib/python3.11/dist-packages (from google-cloud-secret-manager>=2.22.0->google-adk) (0.14.2)\n",
            "Requirement already satisfied: google-cloud-core<3.0dev,>=2.3.0 in /usr/local/lib/python3.11/dist-packages (from google-cloud-storage<3.0.0,>=2.18.0->google-adk) (2.4.3)\n",
            "Requirement already satisfied: google-resumable-media>=2.7.2 in /usr/local/lib/python3.11/dist-packages (from google-cloud-storage<3.0.0,>=2.18.0->google-adk) (2.7.2)\n",
            "Requirement already satisfied: requests<3.0.0dev,>=2.18.0 in /usr/local/lib/python3.11/dist-packages (from google-cloud-storage<3.0.0,>=2.18.0->google-adk) (2.32.3)\n",
            "Requirement already satisfied: google-crc32c<2.0dev,>=1.0 in /usr/local/lib/python3.11/dist-packages (from google-cloud-storage<3.0.0,>=2.18.0->google-adk) (1.7.1)\n",
            "Requirement already satisfied: anyio<5.0.0,>=4.8.0 in /usr/local/lib/python3.11/dist-packages (from google-genai>=1.11.0->google-adk) (4.9.0)\n",
            "Requirement already satisfied: httpx<1.0.0,>=0.28.1 in /usr/local/lib/python3.11/dist-packages (from google-genai>=1.11.0->google-adk) (0.28.1)\n",
            "Requirement already satisfied: websockets<15.1.0,>=13.0.0 in /usr/local/lib/python3.11/dist-packages (from google-genai>=1.11.0->google-adk) (15.0.1)\n",
            "Requirement already satisfied: httpx-sse>=0.4 in /usr/local/lib/python3.11/dist-packages (from mcp>=1.5.0->google-adk) (0.4.0)\n",
            "Requirement already satisfied: pydantic-settings>=2.5.2 in /usr/local/lib/python3.11/dist-packages (from mcp>=1.5.0->google-adk) (2.9.1)\n",
            "Requirement already satisfied: python-multipart>=0.0.9 in /usr/local/lib/python3.11/dist-packages (from mcp>=1.5.0->google-adk) (0.0.20)\n",
            "Requirement already satisfied: sse-starlette>=1.6.1 in /usr/local/lib/python3.11/dist-packages (from mcp>=1.5.0->google-adk) (2.3.4)\n",
            "Requirement already satisfied: deprecated>=1.2.6 in /usr/local/lib/python3.11/dist-packages (from opentelemetry-api>=1.31.0->google-adk) (1.2.18)\n",
            "Requirement already satisfied: importlib-metadata<8.7.0,>=6.0 in /usr/local/lib/python3.11/dist-packages (from opentelemetry-api>=1.31.0->google-adk) (8.6.1)\n",
            "Requirement already satisfied: google-cloud-trace~=1.1 in /usr/local/lib/python3.11/dist-packages (from opentelemetry-exporter-gcp-trace>=1.9.0->google-adk) (1.16.1)\n",
            "Requirement already satisfied: opentelemetry-resourcedetector-gcp==1.*,>=1.5.0dev0 in /usr/local/lib/python3.11/dist-packages (from opentelemetry-exporter-gcp-trace>=1.9.0->google-adk) (1.9.0a0)\n",
            "Requirement already satisfied: opentelemetry-semantic-conventions==0.53b1 in /usr/local/lib/python3.11/dist-packages (from opentelemetry-sdk>=1.31.0->google-adk) (0.53b1)\n",
            "Requirement already satisfied: annotated-types>=0.6.0 in /usr/local/lib/python3.11/dist-packages (from pydantic<3.0.0,>=2.0->google-adk) (0.7.0)\n",
            "Requirement already satisfied: pydantic-core==2.33.2 in /usr/local/lib/python3.11/dist-packages (from pydantic<3.0.0,>=2.0->google-adk) (2.33.2)\n",
            "Requirement already satisfied: typing-inspection>=0.4.0 in /usr/local/lib/python3.11/dist-packages (from pydantic<3.0.0,>=2.0->google-adk) (0.4.0)\n",
            "Requirement already satisfied: greenlet>=1 in /usr/local/lib/python3.11/dist-packages (from sqlalchemy>=2.0->google-adk) (3.2.1)\n",
            "Requirement already satisfied: h11>=0.8 in /usr/local/lib/python3.11/dist-packages (from uvicorn>=0.34.0->google-adk) (0.16.0)\n",
            "Requirement already satisfied: idna>=2.8 in /usr/local/lib/python3.11/dist-packages (from anyio<5.0.0,>=4.8.0->google-genai>=1.11.0->google-adk) (3.10)\n",
            "Requirement already satisfied: sniffio>=1.1 in /usr/local/lib/python3.11/dist-packages (from anyio<5.0.0,>=4.8.0->google-genai>=1.11.0->google-adk) (1.3.1)\n",
            "Requirement already satisfied: wrapt<2,>=1.10 in /usr/local/lib/python3.11/dist-packages (from deprecated>=1.2.6->opentelemetry-api>=1.31.0->google-adk) (1.17.2)\n",
            "Requirement already satisfied: googleapis-common-protos<2.0.0,>=1.56.2 in /usr/local/lib/python3.11/dist-packages (from google-api-core!=2.0.*,!=2.1.*,!=2.2.*,!=2.3.0,<3.0.0,>=1.31.5->google-api-python-client>=2.157.0->google-adk) (1.70.0)\n",
            "Requirement already satisfied: grpcio<2.0dev,>=1.33.2 in /usr/local/lib/python3.11/dist-packages (from google-api-core[grpc]!=2.0.*,!=2.1.*,!=2.2.*,!=2.3.*,!=2.4.*,!=2.5.*,!=2.6.*,!=2.7.*,<3.0.0,>=1.34.1->google-cloud-aiplatform>=1.87.0->google-adk) (1.71.0)\n",
            "Requirement already satisfied: grpcio-status<2.0.dev0,>=1.33.2 in /usr/local/lib/python3.11/dist-packages (from google-api-core[grpc]!=2.0.*,!=2.1.*,!=2.2.*,!=2.3.*,!=2.4.*,!=2.5.*,!=2.6.*,!=2.7.*,<3.0.0,>=1.34.1->google-cloud-aiplatform>=1.87.0->google-adk) (1.71.0)\n",
            "Requirement already satisfied: cachetools<6.0,>=2.0.0 in /usr/local/lib/python3.11/dist-packages (from google-auth!=2.24.0,!=2.25.0,<3.0.0,>=1.32.0->google-api-python-client>=2.157.0->google-adk) (5.5.2)\n",
            "Requirement already satisfied: pyasn1-modules>=0.2.1 in /usr/local/lib/python3.11/dist-packages (from google-auth!=2.24.0,!=2.25.0,<3.0.0,>=1.32.0->google-api-python-client>=2.157.0->google-adk) (0.4.2)\n",
            "Requirement already satisfied: rsa<5,>=3.1.4 in /usr/local/lib/python3.11/dist-packages (from google-auth!=2.24.0,!=2.25.0,<3.0.0,>=1.32.0->google-api-python-client>=2.157.0->google-adk) (4.9.1)\n",
            "Requirement already satisfied: python-dateutil<3.0.0,>=2.8.2 in /usr/local/lib/python3.11/dist-packages (from google-cloud-bigquery!=3.20.0,<4.0.0,>=1.15.0->google-cloud-aiplatform>=1.87.0->google-adk) (2.9.0.post0)\n",
            "Requirement already satisfied: pyparsing!=3.0.0,!=3.0.1,!=3.0.2,!=3.0.3,<4,>=2.4.2 in /usr/local/lib/python3.11/dist-packages (from httplib2<1.0.0,>=0.19.0->google-api-python-client>=2.157.0->google-adk) (3.2.3)\n",
            "Requirement already satisfied: certifi in /usr/local/lib/python3.11/dist-packages (from httpx<1.0.0,>=0.28.1->google-genai>=1.11.0->google-adk) (2025.4.26)\n",
            "Requirement already satisfied: httpcore==1.* in /usr/local/lib/python3.11/dist-packages (from httpx<1.0.0,>=0.28.1->google-genai>=1.11.0->google-adk) (1.0.9)\n",
            "Requirement already satisfied: zipp>=3.20 in /usr/local/lib/python3.11/dist-packages (from importlib-metadata<8.7.0,>=6.0->opentelemetry-api>=1.31.0->google-adk) (3.21.0)\n",
            "Requirement already satisfied: charset-normalizer<4,>=2 in /usr/local/lib/python3.11/dist-packages (from requests<3.0.0dev,>=2.18.0->google-cloud-storage<3.0.0,>=2.18.0->google-adk) (3.4.1)\n",
            "Requirement already satisfied: urllib3<3,>=1.21.1 in /usr/local/lib/python3.11/dist-packages (from requests<3.0.0dev,>=2.18.0->google-cloud-storage<3.0.0,>=2.18.0->google-adk) (2.4.0)\n",
            "Requirement already satisfied: numpy>=1.21 in /usr/local/lib/python3.11/dist-packages (from shapely<3.0.0->google-cloud-aiplatform>=1.87.0->google-adk) (2.0.2)\n",
            "Requirement already satisfied: cffi>=1.12 in /usr/local/lib/python3.11/dist-packages (from cryptography->authlib>=1.5.1->google-adk) (1.17.1)\n",
            "Requirement already satisfied: pycparser in /usr/local/lib/python3.11/dist-packages (from cffi>=1.12->cryptography->authlib>=1.5.1->google-adk) (2.22)\n",
            "Requirement already satisfied: pyasn1<0.7.0,>=0.6.1 in /usr/local/lib/python3.11/dist-packages (from pyasn1-modules>=0.2.1->google-auth!=2.24.0,!=2.25.0,<3.0.0,>=1.32.0->google-api-python-client>=2.157.0->google-adk) (0.6.1)\n",
            "Requirement already satisfied: six>=1.5 in /usr/local/lib/python3.11/dist-packages (from python-dateutil<3.0.0,>=2.8.2->google-cloud-bigquery!=3.20.0,<4.0.0,>=1.15.0->google-cloud-aiplatform>=1.87.0->google-adk) (1.17.0)\n",
            "Installation complete.\n"
          ]
        }
      ]
    },
    {
      "cell_type": "code",
      "source": [
        "# Full example code for the basic capital agent\n",
        "# --- Full example code demonstrating LlmAgent with Tools vs. Output Schema ---\n",
        "import json # Needed for pretty printing dicts\n",
        "\n",
        "from google.adk.agents import LlmAgent\n",
        "from google.adk.runners import Runner\n",
        "from google.adk.sessions import InMemorySessionService\n",
        "from google.genai import types\n",
        "from pydantic import BaseModel, Field"
      ],
      "metadata": {
        "id": "XGZt_Q6Hy_kC"
      },
      "execution_count": 1,
      "outputs": []
    },
    {
      "cell_type": "code",
      "source": [
        "from google.colab import userdata\n",
        "import os\n",
        "\n",
        "GOOGLE_API_KEY=userdata.get('GOOGLE_API_KEY')\n",
        "\n",
        "# Gemini API Key (Get from Google AI Studio: https://aistudio.google.com/app/apikey)\n",
        "os.environ[\"GOOGLE_API_KEY\"] = GOOGLE_API_KEY\n",
        "\n",
        "print(\"API Keys Set:\")\n",
        "print(f\"Google API Key set: {'Yes' if os.environ.get('GOOGLE_API_KEY') and os.environ['GOOGLE_API_KEY'] != 'YOUR_GOOGLE_API_KEY' else 'No (REPLACE PLACEHOLDER!)'}\")\n",
        "\n",
        "\n"
      ],
      "metadata": {
        "colab": {
          "base_uri": "https://localhost:8080/"
        },
        "id": "qTRdWi7s1DcX",
        "outputId": "c5fba04f-91bd-42dd-a3df-d2000f53cd22"
      },
      "execution_count": 10,
      "outputs": [
        {
          "output_type": "stream",
          "name": "stdout",
          "text": [
            "API Keys Set:\n",
            "Google API Key set: Yes\n"
          ]
        }
      ]
    },
    {
      "cell_type": "code",
      "source": [
        "\n",
        "# --- 1. Define Constants ---\n",
        "APP_NAME = \"agent_comparison_app\"\n",
        "USER_ID = \"test_user_456\"\n",
        "SESSION_ID_TOOL_AGENT = \"session_tool_agent_xyz\"\n",
        "SESSION_ID_SCHEMA_AGENT = \"session_schema_agent_xyz\"\n",
        "MODEL_NAME = \"gemini-2.0-flash\""
      ],
      "metadata": {
        "id": "kOkSVHTIzIm6"
      },
      "execution_count": 2,
      "outputs": []
    },
    {
      "cell_type": "code",
      "source": [
        "# --- 2. Define Schemas ---\n",
        "\n",
        "# Input schema used by both agents\n",
        "class CountryInput(BaseModel):\n",
        "    country: str = Field(description=\"The country to get information about.\")\n",
        "\n",
        "# Output schema ONLY for the second agent\n",
        "class CapitalInfoOutput(BaseModel):\n",
        "    capital: str = Field(description=\"The capital city of the country.\")\n",
        "    # Note: Population is illustrative; the LLM will infer or estimate this\n",
        "    # as it cannot use tools when output_schema is set.\n",
        "    population_estimate: str = Field(description=\"An estimated population of the capital city.\")\n",
        "\n",
        "# --- 3. Define the Tool (Only for the first agent) ---\n",
        "def get_capital_city(country: str) -> str:\n",
        "    \"\"\"Retrieves the capital city of a given country.\"\"\"\n",
        "    print(f\"\\n-- Tool Call: get_capital_city(country='{country}') --\")\n",
        "    country_capitals = {\n",
        "        \"united states\": \"Washington, D.C.\",\n",
        "        \"canada\": \"Ottawa\",\n",
        "        \"france\": \"Paris\",\n",
        "        \"japan\": \"Tokyo\",\n",
        "    }\n",
        "    result = country_capitals.get(country.lower(), f\"Sorry, I couldn't find the capital for {country}.\")\n",
        "    print(f\"-- Tool Result: '{result}' --\")\n",
        "    return result\n"
      ],
      "metadata": {
        "id": "Da4XbGVnzIkR"
      },
      "execution_count": 3,
      "outputs": []
    },
    {
      "cell_type": "code",
      "source": [
        "# --- 4. Configure Agents ---\n",
        "\n",
        "# Agent 1: Uses a tool and output_key\n",
        "capital_agent_with_tool = LlmAgent(\n",
        "    model=MODEL_NAME,\n",
        "    name=\"capital_agent_tool\",\n",
        "    description=\"Retrieves the capital city using a specific tool.\",\n",
        "    instruction=\"\"\"You are a helpful agent that provides the capital city of a country using a tool.\n",
        "The user will provide the country name in a JSON format like {\"country\": \"country_name\"}.\n",
        "1. Extract the country name.\n",
        "2. Use the `get_capital_city` tool to find the capital.\n",
        "3. Respond clearly to the user, stating the capital city found by the tool.\n",
        "\"\"\",\n",
        "    tools=[get_capital_city],\n",
        "    input_schema=CountryInput,\n",
        "    output_key=\"capital_tool_result\", # Store final text response\n",
        ")\n",
        "\n",
        "# Agent 2: Uses output_schema (NO tools possible)\n",
        "structured_info_agent_schema = LlmAgent(\n",
        "    model=MODEL_NAME,\n",
        "    name=\"structured_info_agent_schema\",\n",
        "    description=\"Provides capital and estimated population in a specific JSON format.\",\n",
        "    instruction=f\"\"\"You are an agent that provides country information.\n",
        "The user will provide the country name in a JSON format like {{\"country\": \"country_name\"}}.\n",
        "Respond ONLY with a JSON object matching this exact schema:\n",
        "{json.dumps(CapitalInfoOutput.model_json_schema(), indent=2)}\n",
        "Use your knowledge to determine the capital and estimate the population. Do not use any tools.\n",
        "\"\"\",\n",
        "    # *** NO tools parameter here - using output_schema prevents tool use ***\n",
        "    input_schema=CountryInput,\n",
        "    output_schema=CapitalInfoOutput, # Enforce JSON output structure\n",
        "    output_key=\"structured_info_result\", # Store final JSON response\n",
        ")\n"
      ],
      "metadata": {
        "colab": {
          "base_uri": "https://localhost:8080/"
        },
        "id": "ZVRtXPhCzIg9",
        "outputId": "74cd1de7-4040-40f1-be31-043e89fc7fb9"
      },
      "execution_count": 4,
      "outputs": [
        {
          "output_type": "stream",
          "name": "stderr",
          "text": [
            "WARNING:google.adk.agents.llm_agent:Invalid config for agent structured_info_agent_schema: output_schema cannot co-exist with agent transfer configurations. Setting disallow_transfer_to_parent=True, disallow_transfer_to_peers=True\n"
          ]
        }
      ]
    },
    {
      "cell_type": "code",
      "source": [
        "# --- 5. Set up Session Management and Runners ---\n",
        "session_service = InMemorySessionService()\n",
        "\n",
        "# Create separate sessions for clarity, though not strictly necessary if context is managed\n",
        "session_service.create_session(app_name=APP_NAME, user_id=USER_ID, session_id=SESSION_ID_TOOL_AGENT)\n",
        "session_service.create_session(app_name=APP_NAME, user_id=USER_ID, session_id=SESSION_ID_SCHEMA_AGENT)\n",
        "\n",
        "# Create a runner for EACH agent\n",
        "capital_runner = Runner(\n",
        "    agent=capital_agent_with_tool,\n",
        "    app_name=APP_NAME,\n",
        "    session_service=session_service\n",
        ")\n",
        "structured_runner = Runner(\n",
        "    agent=structured_info_agent_schema,\n",
        "    app_name=APP_NAME,\n",
        "    session_service=session_service\n",
        ")\n"
      ],
      "metadata": {
        "id": "R3bvetQu0dqp"
      },
      "execution_count": 5,
      "outputs": []
    },
    {
      "cell_type": "code",
      "source": [
        "# --- 6. Define Agent Interaction Logic ---\n",
        "async def call_agent_and_print(\n",
        "    runner_instance: Runner,\n",
        "    agent_instance: LlmAgent,\n",
        "    session_id: str,\n",
        "    query_json: str\n",
        "):\n",
        "    \"\"\"Sends a query to the specified agent/runner and prints results.\"\"\"\n",
        "    print(f\"\\n>>> Calling Agent: '{agent_instance.name}' | Query: {query_json}\")\n",
        "\n",
        "    user_content = types.Content(role='user', parts=[types.Part(text=query_json)])\n",
        "\n",
        "    final_response_content = \"No final response received.\"\n",
        "    async for event in runner_instance.run_async(user_id=USER_ID, session_id=session_id, new_message=user_content):\n",
        "        # print(f\"Event: {event.type}, Author: {event.author}\") # Uncomment for detailed logging\n",
        "        if event.is_final_response() and event.content and event.content.parts:\n",
        "            # For output_schema, the content is the JSON string itself\n",
        "            final_response_content = event.content.parts[0].text\n",
        "\n",
        "    print(f\"<<< Agent '{agent_instance.name}' Response: {final_response_content}\")\n",
        "\n",
        "    current_session = session_service.get_session(app_name=APP_NAME,\n",
        "                                                  user_id=USER_ID,\n",
        "                                                  session_id=session_id)\n",
        "    stored_output = current_session.state.get(agent_instance.output_key)\n",
        "\n",
        "    # Pretty print if the stored output looks like JSON (likely from output_schema)\n",
        "    print(f\"--- Session State ['{agent_instance.output_key}']: \", end=\"\")\n",
        "    try:\n",
        "        # Attempt to parse and pretty print if it's JSON\n",
        "        parsed_output = json.loads(stored_output)\n",
        "        print(json.dumps(parsed_output, indent=2))\n",
        "    except (json.JSONDecodeError, TypeError):\n",
        "         # Otherwise, print as string\n",
        "        print(stored_output)\n",
        "    print(\"-\" * 30)"
      ],
      "metadata": {
        "id": "8j_H5PlK0dnw"
      },
      "execution_count": 6,
      "outputs": []
    },
    {
      "cell_type": "code",
      "source": [
        "# --- 7. Run Interactions ---\n",
        "async def main():\n",
        "    print(\"--- Testing Agent with Tool ---\")\n",
        "    await call_agent_and_print(capital_runner, capital_agent_with_tool, SESSION_ID_TOOL_AGENT, '{\"country\": \"France\"}')\n",
        "    await call_agent_and_print(capital_runner, capital_agent_with_tool, SESSION_ID_TOOL_AGENT, '{\"country\": \"Canada\"}')\n",
        "\n",
        "    print(\"\\n\\n--- Testing Agent with Output Schema (No Tool Use) ---\")\n",
        "    await call_agent_and_print(structured_runner, structured_info_agent_schema, SESSION_ID_SCHEMA_AGENT, '{\"country\": \"France\"}')\n",
        "    await call_agent_and_print(structured_runner, structured_info_agent_schema, SESSION_ID_SCHEMA_AGENT, '{\"country\": \"Japan\"}')\n"
      ],
      "metadata": {
        "id": "uSIxGvog0di2"
      },
      "execution_count": 7,
      "outputs": []
    },
    {
      "cell_type": "code",
      "source": [
        "if __name__ == \"__main__\":\n",
        "    await main()"
      ],
      "metadata": {
        "colab": {
          "base_uri": "https://localhost:8080/"
        },
        "id": "nDIEEXJf0dgf",
        "outputId": "c42f5503-12ef-42d6-dc84-01c4f72cc8cf"
      },
      "execution_count": 11,
      "outputs": [
        {
          "output_type": "stream",
          "name": "stdout",
          "text": [
            "--- Testing Agent with Tool ---\n",
            "\n",
            ">>> Calling Agent: 'capital_agent_tool' | Query: {\"country\": \"France\"}\n"
          ]
        },
        {
          "output_type": "stream",
          "name": "stderr",
          "text": [
            "WARNING:google_genai.types:Warning: there are non-text parts in the response: ['function_call'],returning concatenated text result from text parts,check out the non text parts for full response from model.\n"
          ]
        },
        {
          "output_type": "stream",
          "name": "stdout",
          "text": [
            "\n",
            "-- Tool Call: get_capital_city(country='France') --\n",
            "-- Tool Result: 'Paris' --\n",
            "<<< Agent 'capital_agent_tool' Response: The capital city of France is Paris.\n",
            "\n",
            "--- Session State ['capital_tool_result']: The capital city of France is Paris.\n",
            "\n",
            "------------------------------\n",
            "\n",
            ">>> Calling Agent: 'capital_agent_tool' | Query: {\"country\": \"Canada\"}\n"
          ]
        },
        {
          "output_type": "stream",
          "name": "stderr",
          "text": [
            "WARNING:google_genai.types:Warning: there are non-text parts in the response: ['function_call'],returning concatenated text result from text parts,check out the non text parts for full response from model.\n"
          ]
        },
        {
          "output_type": "stream",
          "name": "stdout",
          "text": [
            "\n",
            "-- Tool Call: get_capital_city(country='Canada') --\n",
            "-- Tool Result: 'Ottawa' --\n",
            "<<< Agent 'capital_agent_tool' Response: The capital city of Canada is Ottawa.\n",
            "\n",
            "--- Session State ['capital_tool_result']: The capital city of Canada is Ottawa.\n",
            "\n",
            "------------------------------\n",
            "\n",
            "\n",
            "--- Testing Agent with Output Schema (No Tool Use) ---\n",
            "\n",
            ">>> Calling Agent: 'structured_info_agent_schema' | Query: {\"country\": \"France\"}\n",
            "<<< Agent 'structured_info_agent_schema' Response: {\n",
            "  \"capital\": \"Paris\",\n",
            "  \"population_estimate\": \"2.1 million (city proper)\"\n",
            "}\n",
            "--- Session State ['structured_info_result']: {'capital': 'Paris', 'population_estimate': '2.1 million (city proper)'}\n",
            "------------------------------\n",
            "\n",
            ">>> Calling Agent: 'structured_info_agent_schema' | Query: {\"country\": \"Japan\"}\n",
            "<<< Agent 'structured_info_agent_schema' Response: {\n",
            "  \"capital\": \"Tokyo\",\n",
            "  \"population_estimate\": \"13.96 million (city proper)\"\n",
            "}\n",
            "--- Session State ['structured_info_result']: {'capital': 'Tokyo', 'population_estimate': '13.96 million (city proper)'}\n",
            "------------------------------\n"
          ]
        }
      ]
    },
    {
      "cell_type": "code",
      "source": [],
      "metadata": {
        "id": "3rb2mMK_0ddu"
      },
      "execution_count": null,
      "outputs": []
    },
    {
      "cell_type": "code",
      "source": [],
      "metadata": {
        "id": "Oo6215oJy_eh"
      },
      "execution_count": null,
      "outputs": []
    },
    {
      "cell_type": "code",
      "source": [],
      "metadata": {
        "id": "6-M2_kSHy_Vc"
      },
      "execution_count": null,
      "outputs": []
    },
    {
      "cell_type": "code",
      "source": [
        "# Full example code for the basic capital agent\n",
        "# --- Full example code demonstrating LlmAgent with Tools vs. Output Schema ---\n",
        "import json # Needed for pretty printing dicts\n",
        "\n",
        "from google.adk.agents import LlmAgent\n",
        "from google.adk.runners import Runner\n",
        "from google.adk.sessions import InMemorySessionService\n",
        "from google.genai import types\n",
        "from pydantic import BaseModel, Field\n",
        "\n",
        "# --- 1. Define Constants ---\n",
        "APP_NAME = \"agent_comparison_app\"\n",
        "USER_ID = \"test_user_456\"\n",
        "SESSION_ID_TOOL_AGENT = \"session_tool_agent_xyz\"\n",
        "SESSION_ID_SCHEMA_AGENT = \"session_schema_agent_xyz\"\n",
        "MODEL_NAME = \"gemini-2.0-flash\"\n",
        "\n",
        "# --- 2. Define Schemas ---\n",
        "\n",
        "# Input schema used by both agents\n",
        "class CountryInput(BaseModel):\n",
        "    country: str = Field(description=\"The country to get information about.\")\n",
        "\n",
        "# Output schema ONLY for the second agent\n",
        "class CapitalInfoOutput(BaseModel):\n",
        "    capital: str = Field(description=\"The capital city of the country.\")\n",
        "    # Note: Population is illustrative; the LLM will infer or estimate this\n",
        "    # as it cannot use tools when output_schema is set.\n",
        "    population_estimate: str = Field(description=\"An estimated population of the capital city.\")\n",
        "\n",
        "# --- 3. Define the Tool (Only for the first agent) ---\n",
        "def get_capital_city(country: str) -> str:\n",
        "    \"\"\"Retrieves the capital city of a given country.\"\"\"\n",
        "    print(f\"\\n-- Tool Call: get_capital_city(country='{country}') --\")\n",
        "    country_capitals = {\n",
        "        \"united states\": \"Washington, D.C.\",\n",
        "        \"canada\": \"Ottawa\",\n",
        "        \"france\": \"Paris\",\n",
        "        \"japan\": \"Tokyo\",\n",
        "    }\n",
        "    result = country_capitals.get(country.lower(), f\"Sorry, I couldn't find the capital for {country}.\")\n",
        "    print(f\"-- Tool Result: '{result}' --\")\n",
        "    return result\n",
        "\n",
        "# --- 4. Configure Agents ---\n",
        "\n",
        "# Agent 1: Uses a tool and output_key\n",
        "capital_agent_with_tool = LlmAgent(\n",
        "    model=MODEL_NAME,\n",
        "    name=\"capital_agent_tool\",\n",
        "    description=\"Retrieves the capital city using a specific tool.\",\n",
        "    instruction=\"\"\"You are a helpful agent that provides the capital city of a country using a tool.\n",
        "The user will provide the country name in a JSON format like {\"country\": \"country_name\"}.\n",
        "1. Extract the country name.\n",
        "2. Use the `get_capital_city` tool to find the capital.\n",
        "3. Respond clearly to the user, stating the capital city found by the tool.\n",
        "\"\"\",\n",
        "    tools=[get_capital_city],\n",
        "    input_schema=CountryInput,\n",
        "    output_key=\"capital_tool_result\", # Store final text response\n",
        ")\n",
        "\n",
        "# Agent 2: Uses output_schema (NO tools possible)\n",
        "structured_info_agent_schema = LlmAgent(\n",
        "    model=MODEL_NAME,\n",
        "    name=\"structured_info_agent_schema\",\n",
        "    description=\"Provides capital and estimated population in a specific JSON format.\",\n",
        "    instruction=f\"\"\"You are an agent that provides country information.\n",
        "The user will provide the country name in a JSON format like {{\"country\": \"country_name\"}}.\n",
        "Respond ONLY with a JSON object matching this exact schema:\n",
        "{json.dumps(CapitalInfoOutput.model_json_schema(), indent=2)}\n",
        "Use your knowledge to determine the capital and estimate the population. Do not use any tools.\n",
        "\"\"\",\n",
        "    # *** NO tools parameter here - using output_schema prevents tool use ***\n",
        "    input_schema=CountryInput,\n",
        "    output_schema=CapitalInfoOutput, # Enforce JSON output structure\n",
        "    output_key=\"structured_info_result\", # Store final JSON response\n",
        ")\n",
        "\n",
        "# --- 5. Set up Session Management and Runners ---\n",
        "session_service = InMemorySessionService()\n",
        "\n",
        "# Create separate sessions for clarity, though not strictly necessary if context is managed\n",
        "session_service.create_session(app_name=APP_NAME, user_id=USER_ID, session_id=SESSION_ID_TOOL_AGENT)\n",
        "session_service.create_session(app_name=APP_NAME, user_id=USER_ID, session_id=SESSION_ID_SCHEMA_AGENT)\n",
        "\n",
        "# Create a runner for EACH agent\n",
        "capital_runner = Runner(\n",
        "    agent=capital_agent_with_tool,\n",
        "    app_name=APP_NAME,\n",
        "    session_service=session_service\n",
        ")\n",
        "structured_runner = Runner(\n",
        "    agent=structured_info_agent_schema,\n",
        "    app_name=APP_NAME,\n",
        "    session_service=session_service\n",
        ")\n",
        "\n",
        "# --- 6. Define Agent Interaction Logic ---\n",
        "async def call_agent_and_print(\n",
        "    runner_instance: Runner,\n",
        "    agent_instance: LlmAgent,\n",
        "    session_id: str,\n",
        "    query_json: str\n",
        "):\n",
        "    \"\"\"Sends a query to the specified agent/runner and prints results.\"\"\"\n",
        "    print(f\"\\n>>> Calling Agent: '{agent_instance.name}' | Query: {query_json}\")\n",
        "\n",
        "    user_content = types.Content(role='user', parts=[types.Part(text=query_json)])\n",
        "\n",
        "    final_response_content = \"No final response received.\"\n",
        "    async for event in runner_instance.run_async(user_id=USER_ID, session_id=session_id, new_message=user_content):\n",
        "        # print(f\"Event: {event.type}, Author: {event.author}\") # Uncomment for detailed logging\n",
        "        if event.is_final_response() and event.content and event.content.parts:\n",
        "            # For output_schema, the content is the JSON string itself\n",
        "            final_response_content = event.content.parts[0].text\n",
        "\n",
        "    print(f\"<<< Agent '{agent_instance.name}' Response: {final_response_content}\")\n",
        "\n",
        "    current_session = session_service.get_session(app_name=APP_NAME,\n",
        "                                                  user_id=USER_ID,\n",
        "                                                  session_id=session_id)\n",
        "    stored_output = current_session.state.get(agent_instance.output_key)\n",
        "\n",
        "    # Pretty print if the stored output looks like JSON (likely from output_schema)\n",
        "    print(f\"--- Session State ['{agent_instance.output_key}']: \", end=\"\")\n",
        "    try:\n",
        "        # Attempt to parse and pretty print if it's JSON\n",
        "        parsed_output = json.loads(stored_output)\n",
        "        print(json.dumps(parsed_output, indent=2))\n",
        "    except (json.JSONDecodeError, TypeError):\n",
        "         # Otherwise, print as string\n",
        "        print(stored_output)\n",
        "    print(\"-\" * 30)\n",
        "\n",
        "\n",
        "# --- 7. Run Interactions ---\n",
        "async def main():\n",
        "    print(\"--- Testing Agent with Tool ---\")\n",
        "    await call_agent_and_print(capital_runner, capital_agent_with_tool, SESSION_ID_TOOL_AGENT, '{\"country\": \"France\"}')\n",
        "    await call_agent_and_print(capital_runner, capital_agent_with_tool, SESSION_ID_TOOL_AGENT, '{\"country\": \"Canada\"}')\n",
        "\n",
        "    print(\"\\n\\n--- Testing Agent with Output Schema (No Tool Use) ---\")\n",
        "    await call_agent_and_print(structured_runner, structured_info_agent_schema, SESSION_ID_SCHEMA_AGENT, '{\"country\": \"France\"}')\n",
        "    await call_agent_and_print(structured_runner, structured_info_agent_schema, SESSION_ID_SCHEMA_AGENT, '{\"country\": \"Japan\"}')\n",
        "\n",
        "if __name__ == \"__main__\":\n",
        "    await main()"
      ],
      "metadata": {
        "id": "jAF79yNJyjbm"
      },
      "execution_count": null,
      "outputs": []
    }
  ]
}